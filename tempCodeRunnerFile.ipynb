import pickle
pickle.dump(cv,open('vec.pkl','wb'))